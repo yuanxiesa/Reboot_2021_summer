{
 "cells": [
  {
   "cell_type": "code",
   "execution_count": 3,
   "id": "8001b47a",
   "metadata": {},
   "outputs": [],
   "source": [
    "# z-score and p-value\n",
    "# July 20, 2021\n",
    "\n",
    "import numpy as np\n",
    "import pandas as pd\n",
    "import matplotlib.pyplot as plt # library level or module level\n",
    "from scipy.special import ndtr # single function"
   ]
  },
  {
   "cell_type": "code",
   "execution_count": 4,
   "id": "38f53dbe",
   "metadata": {},
   "outputs": [],
   "source": [
    "# create a normal distribution\n",
    "mu = 50  # mu is mean, and sigma is standard deviation\n",
    "sigma = 10\n",
    "np.random.seed(0) # set a seed before I use a random number generator\n",
    "norm_dist = np.random.normal(mu,sigma,100) # generate a normal distribution, with average (mean) at 50, and standard deviation at 10"
   ]
  },
  {
   "cell_type": "code",
   "execution_count": 5,
   "id": "581321f4",
   "metadata": {},
   "outputs": [],
   "source": [
    "norm_df = pd.DataFrame(norm_dist, columns=['data']) # generate a dataframe to hold data, and in the future, I need to add z-score and p-value"
   ]
  },
  {
   "cell_type": "code",
   "execution_count": 6,
   "id": "fe278425",
   "metadata": {},
   "outputs": [
    {
     "data": {
      "text/html": [
       "<div>\n",
       "<style scoped>\n",
       "    .dataframe tbody tr th:only-of-type {\n",
       "        vertical-align: middle;\n",
       "    }\n",
       "\n",
       "    .dataframe tbody tr th {\n",
       "        vertical-align: top;\n",
       "    }\n",
       "\n",
       "    .dataframe thead th {\n",
       "        text-align: right;\n",
       "    }\n",
       "</style>\n",
       "<table border=\"1\" class=\"dataframe\">\n",
       "  <thead>\n",
       "    <tr style=\"text-align: right;\">\n",
       "      <th></th>\n",
       "      <th>data</th>\n",
       "    </tr>\n",
       "  </thead>\n",
       "  <tbody>\n",
       "    <tr>\n",
       "      <th>0</th>\n",
       "      <td>67.640523</td>\n",
       "    </tr>\n",
       "    <tr>\n",
       "      <th>1</th>\n",
       "      <td>54.001572</td>\n",
       "    </tr>\n",
       "    <tr>\n",
       "      <th>2</th>\n",
       "      <td>59.787380</td>\n",
       "    </tr>\n",
       "    <tr>\n",
       "      <th>3</th>\n",
       "      <td>72.408932</td>\n",
       "    </tr>\n",
       "    <tr>\n",
       "      <th>4</th>\n",
       "      <td>68.675580</td>\n",
       "    </tr>\n",
       "    <tr>\n",
       "      <th>5</th>\n",
       "      <td>40.227221</td>\n",
       "    </tr>\n",
       "    <tr>\n",
       "      <th>6</th>\n",
       "      <td>59.500884</td>\n",
       "    </tr>\n",
       "    <tr>\n",
       "      <th>7</th>\n",
       "      <td>48.486428</td>\n",
       "    </tr>\n",
       "    <tr>\n",
       "      <th>8</th>\n",
       "      <td>48.967811</td>\n",
       "    </tr>\n",
       "    <tr>\n",
       "      <th>9</th>\n",
       "      <td>54.105985</td>\n",
       "    </tr>\n",
       "  </tbody>\n",
       "</table>\n",
       "</div>"
      ],
      "text/plain": [
       "        data\n",
       "0  67.640523\n",
       "1  54.001572\n",
       "2  59.787380\n",
       "3  72.408932\n",
       "4  68.675580\n",
       "5  40.227221\n",
       "6  59.500884\n",
       "7  48.486428\n",
       "8  48.967811\n",
       "9  54.105985"
      ]
     },
     "execution_count": 6,
     "metadata": {},
     "output_type": "execute_result"
    }
   ],
   "source": [
    "norm_df.head(10)"
   ]
  },
  {
   "cell_type": "code",
   "execution_count": 7,
   "id": "57abbd90",
   "metadata": {},
   "outputs": [
    {
     "data": {
      "text/plain": [
       "(array([ 1.,  5.,  7., 13., 17., 18., 16., 11.,  7.,  5.]),\n",
       " array([24.47010184, 29.29284628, 34.11559072, 38.93833516, 43.7610796 ,\n",
       "        48.58382404, 53.40656848, 58.22931292, 63.05205736, 67.8748018 ,\n",
       "        72.69754624]),\n",
       " <BarContainer object of 10 artists>)"
      ]
     },
     "execution_count": 7,
     "metadata": {},
     "output_type": "execute_result"
    },
    {
     "data": {
      "image/png": "[encoded data removed]",
      "text/plain": [
       "<Figure size 432x288 with 1 Axes>"
      ]
     },
     "metadata": {
      "needs_background": "light"
     },
     "output_type": "display_data"
    }
   ],
   "source": [
    "# create a histogram \n",
    "plt.hist(norm_df['data'], color='white', ec='blue')"
   ]
  },
  {
   "cell_type": "code",
   "execution_count": 8,
   "id": "28f0b5e5",
   "metadata": {},
   "outputs": [
    {
     "data": {
      "text/plain": [
       "41.045334388063246"
      ]
     },
     "execution_count": 8,
     "metadata": {},
     "output_type": "execute_result"
    }
   ],
   "source": [
    "# calcuate the z-score for one value x\n",
    "x = norm_df.iloc[50,0] #  take the value at row_idx = 50, col_idx = 0\n",
    "x"
   ]
  },
  {
   "cell_type": "code",
   "execution_count": 9,
   "id": "9a9c7464",
   "metadata": {},
   "outputs": [
    {
     "data": {
      "text/plain": [
       "-0.8954665611936754"
      ]
     },
     "execution_count": 9,
     "metadata": {},
     "output_type": "execute_result"
    }
   ],
   "source": [
    "# calculate z_score by taking the distance between x and the mean (x-mu) and scaled by standard deviation, so we can use normal distribution to compute p-value\n",
    "z_score = (x-mu)/sigma\n",
    "z_score"
   ]
  },
  {
   "cell_type": "code",
   "execution_count": 10,
   "id": "09d564cb",
   "metadata": {},
   "outputs": [
    {
     "data": {
      "text/plain": [
       "0.18526886662103625"
      ]
     },
     "execution_count": 10,
     "metadata": {},
     "output_type": "execute_result"
    }
   ],
   "source": [
    "# p-value: using z-score, and assume the distribution is normal distribution, we can compute p-value\n",
    "# which is the likelyhood of we observe x or more extreme value of x (see the picture below)\n",
    "# we use the ndtr function from scipy library\n",
    "# ndtr returns the area under the standard Gaussian probability density function (another name for normal distribution), \n",
    "# integrated from minus infinity to x\n",
    "# because we need the area under the tail, for z-score that is larger than 0, we need to use 1-ndtr(z_score)\n",
    "# for z-score that is smaller than zero, ndtr(z-score) is enough. \n",
    "# However, in order to calculate both values with one line, we take advantage of the symmetry of the normal distribution\n",
    "# and use 1-ndtr(abs(z_score)) instead\n",
    "p_value = 1-ndtr(abs(z_score))\n",
    "p_value"
   ]
  },
  {
   "attachments": {
    "p_value_and_z_score.png": {
     "image/png": "[encoded data removed]"
    }
   },
   "cell_type": "markdown",
   "id": "c0d0c241",
   "metadata": {},
   "source": [
    "![p_value_and_z_score.png](attachment:p_value_and_z_score.png)"
   ]
  },
  {
   "cell_type": "code",
   "execution_count": 11,
   "id": "61b684ea",
   "metadata": {},
   "outputs": [],
   "source": [
    "# above image from: https://pro.arcgis.com/en/pro-app/latest/tool-reference/spatial-statistics/what-is-a-z-score-what-is-a-p-value.htm"
   ]
  },
  {
   "cell_type": "code",
   "execution_count": 12,
   "id": "585d21f1",
   "metadata": {},
   "outputs": [],
   "source": [
    "# compute all z-scores and p-values for the dataset"
   ]
  },
  {
   "cell_type": "code",
   "execution_count": 13,
   "id": "37ca2c1b",
   "metadata": {},
   "outputs": [],
   "source": [
    "norm_df['z_score'] = [(x-mu)/sigma for x in norm_df['data']]"
   ]
  },
  {
   "cell_type": "code",
   "execution_count": 14,
   "id": "29213253",
   "metadata": {},
   "outputs": [
    {
     "data": {
      "text/html": [
       "<div>\n",
       "<style scoped>\n",
       "    .dataframe tbody tr th:only-of-type {\n",
       "        vertical-align: middle;\n",
       "    }\n",
       "\n",
       "    .dataframe tbody tr th {\n",
       "        vertical-align: top;\n",
       "    }\n",
       "\n",
       "    .dataframe thead th {\n",
       "        text-align: right;\n",
       "    }\n",
       "</style>\n",
       "<table border=\"1\" class=\"dataframe\">\n",
       "  <thead>\n",
       "    <tr style=\"text-align: right;\">\n",
       "      <th></th>\n",
       "      <th>data</th>\n",
       "      <th>z_score</th>\n",
       "    </tr>\n",
       "  </thead>\n",
       "  <tbody>\n",
       "    <tr>\n",
       "      <th>0</th>\n",
       "      <td>67.640523</td>\n",
       "      <td>1.764052</td>\n",
       "    </tr>\n",
       "    <tr>\n",
       "      <th>1</th>\n",
       "      <td>54.001572</td>\n",
       "      <td>0.400157</td>\n",
       "    </tr>\n",
       "    <tr>\n",
       "      <th>2</th>\n",
       "      <td>59.787380</td>\n",
       "      <td>0.978738</td>\n",
       "    </tr>\n",
       "    <tr>\n",
       "      <th>3</th>\n",
       "      <td>72.408932</td>\n",
       "      <td>2.240893</td>\n",
       "    </tr>\n",
       "    <tr>\n",
       "      <th>4</th>\n",
       "      <td>68.675580</td>\n",
       "      <td>1.867558</td>\n",
       "    </tr>\n",
       "    <tr>\n",
       "      <th>5</th>\n",
       "      <td>40.227221</td>\n",
       "      <td>-0.977278</td>\n",
       "    </tr>\n",
       "    <tr>\n",
       "      <th>6</th>\n",
       "      <td>59.500884</td>\n",
       "      <td>0.950088</td>\n",
       "    </tr>\n",
       "    <tr>\n",
       "      <th>7</th>\n",
       "      <td>48.486428</td>\n",
       "      <td>-0.151357</td>\n",
       "    </tr>\n",
       "    <tr>\n",
       "      <th>8</th>\n",
       "      <td>48.967811</td>\n",
       "      <td>-0.103219</td>\n",
       "    </tr>\n",
       "    <tr>\n",
       "      <th>9</th>\n",
       "      <td>54.105985</td>\n",
       "      <td>0.410599</td>\n",
       "    </tr>\n",
       "  </tbody>\n",
       "</table>\n",
       "</div>"
      ],
      "text/plain": [
       "        data   z_score\n",
       "0  67.640523  1.764052\n",
       "1  54.001572  0.400157\n",
       "2  59.787380  0.978738\n",
       "3  72.408932  2.240893\n",
       "4  68.675580  1.867558\n",
       "5  40.227221 -0.977278\n",
       "6  59.500884  0.950088\n",
       "7  48.486428 -0.151357\n",
       "8  48.967811 -0.103219\n",
       "9  54.105985  0.410599"
      ]
     },
     "execution_count": 14,
     "metadata": {},
     "output_type": "execute_result"
    }
   ],
   "source": [
    "norm_df.head(10)"
   ]
  },
  {
   "cell_type": "code",
   "execution_count": 15,
   "id": "82d0e413",
   "metadata": {},
   "outputs": [],
   "source": [
    "# add p-value\n",
    "norm_df['p_value'] = [1-ndtr(abs(x)) for x in norm_df['z_score']]"
   ]
  },
  {
   "cell_type": "code",
   "execution_count": 16,
   "id": "07a6770d",
   "metadata": {},
   "outputs": [
    {
     "data": {
      "text/html": [
       "<div>\n",
       "<style scoped>\n",
       "    .dataframe tbody tr th:only-of-type {\n",
       "        vertical-align: middle;\n",
       "    }\n",
       "\n",
       "    .dataframe tbody tr th {\n",
       "        vertical-align: top;\n",
       "    }\n",
       "\n",
       "    .dataframe thead th {\n",
       "        text-align: right;\n",
       "    }\n",
       "</style>\n",
       "<table border=\"1\" class=\"dataframe\">\n",
       "  <thead>\n",
       "    <tr style=\"text-align: right;\">\n",
       "      <th></th>\n",
       "      <th>data</th>\n",
       "      <th>z_score</th>\n",
       "      <th>p_value</th>\n",
       "    </tr>\n",
       "  </thead>\n",
       "  <tbody>\n",
       "    <tr>\n",
       "      <th>0</th>\n",
       "      <td>67.640523</td>\n",
       "      <td>1.764052</td>\n",
       "      <td>0.038862</td>\n",
       "    </tr>\n",
       "    <tr>\n",
       "      <th>1</th>\n",
       "      <td>54.001572</td>\n",
       "      <td>0.400157</td>\n",
       "      <td>0.344520</td>\n",
       "    </tr>\n",
       "    <tr>\n",
       "      <th>2</th>\n",
       "      <td>59.787380</td>\n",
       "      <td>0.978738</td>\n",
       "      <td>0.163855</td>\n",
       "    </tr>\n",
       "    <tr>\n",
       "      <th>3</th>\n",
       "      <td>72.408932</td>\n",
       "      <td>2.240893</td>\n",
       "      <td>0.012516</td>\n",
       "    </tr>\n",
       "    <tr>\n",
       "      <th>4</th>\n",
       "      <td>68.675580</td>\n",
       "      <td>1.867558</td>\n",
       "      <td>0.030912</td>\n",
       "    </tr>\n",
       "    <tr>\n",
       "      <th>5</th>\n",
       "      <td>40.227221</td>\n",
       "      <td>-0.977278</td>\n",
       "      <td>0.164216</td>\n",
       "    </tr>\n",
       "    <tr>\n",
       "      <th>6</th>\n",
       "      <td>59.500884</td>\n",
       "      <td>0.950088</td>\n",
       "      <td>0.171034</td>\n",
       "    </tr>\n",
       "    <tr>\n",
       "      <th>7</th>\n",
       "      <td>48.486428</td>\n",
       "      <td>-0.151357</td>\n",
       "      <td>0.439847</td>\n",
       "    </tr>\n",
       "    <tr>\n",
       "      <th>8</th>\n",
       "      <td>48.967811</td>\n",
       "      <td>-0.103219</td>\n",
       "      <td>0.458895</td>\n",
       "    </tr>\n",
       "    <tr>\n",
       "      <th>9</th>\n",
       "      <td>54.105985</td>\n",
       "      <td>0.410599</td>\n",
       "      <td>0.340683</td>\n",
       "    </tr>\n",
       "  </tbody>\n",
       "</table>\n",
       "</div>"
      ],
      "text/plain": [
       "        data   z_score   p_value\n",
       "0  67.640523  1.764052  0.038862\n",
       "1  54.001572  0.400157  0.344520\n",
       "2  59.787380  0.978738  0.163855\n",
       "3  72.408932  2.240893  0.012516\n",
       "4  68.675580  1.867558  0.030912\n",
       "5  40.227221 -0.977278  0.164216\n",
       "6  59.500884  0.950088  0.171034\n",
       "7  48.486428 -0.151357  0.439847\n",
       "8  48.967811 -0.103219  0.458895\n",
       "9  54.105985  0.410599  0.340683"
      ]
     },
     "execution_count": 16,
     "metadata": {},
     "output_type": "execute_result"
    }
   ],
   "source": [
    "norm_df.head(10)"
   ]
  },
  {
   "cell_type": "code",
   "execution_count": 23,
   "id": "7f53fa14",
   "metadata": {},
   "outputs": [
    {
     "data": {
      "text/html": [
       "<div>\n",
       "<style scoped>\n",
       "    .dataframe tbody tr th:only-of-type {\n",
       "        vertical-align: middle;\n",
       "    }\n",
       "\n",
       "    .dataframe tbody tr th {\n",
       "        vertical-align: top;\n",
       "    }\n",
       "\n",
       "    .dataframe thead th {\n",
       "        text-align: right;\n",
       "    }\n",
       "</style>\n",
       "<table border=\"1\" class=\"dataframe\">\n",
       "  <thead>\n",
       "    <tr style=\"text-align: right;\">\n",
       "      <th></th>\n",
       "      <th>data</th>\n",
       "      <th>z_score</th>\n",
       "      <th>p_value</th>\n",
       "    </tr>\n",
       "  </thead>\n",
       "  <tbody>\n",
       "    <tr>\n",
       "      <th>0</th>\n",
       "      <td>67.64</td>\n",
       "      <td>1.76</td>\n",
       "      <td>0.04</td>\n",
       "    </tr>\n",
       "    <tr>\n",
       "      <th>1</th>\n",
       "      <td>54.00</td>\n",
       "      <td>0.40</td>\n",
       "      <td>0.34</td>\n",
       "    </tr>\n",
       "    <tr>\n",
       "      <th>2</th>\n",
       "      <td>59.79</td>\n",
       "      <td>0.98</td>\n",
       "      <td>0.16</td>\n",
       "    </tr>\n",
       "    <tr>\n",
       "      <th>3</th>\n",
       "      <td>72.41</td>\n",
       "      <td>2.24</td>\n",
       "      <td>0.01</td>\n",
       "    </tr>\n",
       "    <tr>\n",
       "      <th>4</th>\n",
       "      <td>68.68</td>\n",
       "      <td>1.87</td>\n",
       "      <td>0.03</td>\n",
       "    </tr>\n",
       "    <tr>\n",
       "      <th>5</th>\n",
       "      <td>40.23</td>\n",
       "      <td>-0.98</td>\n",
       "      <td>0.16</td>\n",
       "    </tr>\n",
       "    <tr>\n",
       "      <th>6</th>\n",
       "      <td>59.50</td>\n",
       "      <td>0.95</td>\n",
       "      <td>0.17</td>\n",
       "    </tr>\n",
       "    <tr>\n",
       "      <th>7</th>\n",
       "      <td>48.49</td>\n",
       "      <td>-0.15</td>\n",
       "      <td>0.44</td>\n",
       "    </tr>\n",
       "    <tr>\n",
       "      <th>8</th>\n",
       "      <td>48.97</td>\n",
       "      <td>-0.10</td>\n",
       "      <td>0.46</td>\n",
       "    </tr>\n",
       "    <tr>\n",
       "      <th>9</th>\n",
       "      <td>54.11</td>\n",
       "      <td>0.41</td>\n",
       "      <td>0.34</td>\n",
       "    </tr>\n",
       "  </tbody>\n",
       "</table>\n",
       "</div>"
      ],
      "text/plain": [
       "    data  z_score  p_value\n",
       "0  67.64     1.76     0.04\n",
       "1  54.00     0.40     0.34\n",
       "2  59.79     0.98     0.16\n",
       "3  72.41     2.24     0.01\n",
       "4  68.68     1.87     0.03\n",
       "5  40.23    -0.98     0.16\n",
       "6  59.50     0.95     0.17\n",
       "7  48.49    -0.15     0.44\n",
       "8  48.97    -0.10     0.46\n",
       "9  54.11     0.41     0.34"
      ]
     },
     "execution_count": 23,
     "metadata": {},
     "output_type": "execute_result"
    }
   ],
   "source": [
    "# round to two digits, display the first 10 rows\n",
    "norm_df.apply(lambda x: round(x,2)).head(10)"
   ]
  },
  {
   "cell_type": "code",
   "execution_count": null,
   "id": "9c0a32d4",
   "metadata": {},
   "outputs": [],
   "source": [
    "# value 67.64 is further away from 50, so it has a smaller p-value than 54.00, which is closer to 50.\n",
    "# Again, p-value measures the probability of observing a value or more extreme.\n",
    "# for example, a p-value of 0.04 for 67.64 means that there is 4% of chance to observe 67.64 or LARGER.\n",
    "# on the other hand, a p-value of 0.16 for 40.23 means that there is 16% chance to observe 40.23 or SMALLER."
   ]
  }
 ],
 "metadata": {
  "kernelspec": {
   "display_name": "Python 3",
   "language": "python",
   "name": "python3"
  },
  "language_info": {
   "codemirror_mode": {
    "name": "ipython",
    "version": 3
   },
   "file_extension": ".py",
   "mimetype": "text/x-python",
   "name": "python",
   "nbconvert_exporter": "python",
   "pygments_lexer": "ipython3",
   "version": "3.8.8"
  }
 },
 "nbformat": 4,
 "nbformat_minor": 5
}
