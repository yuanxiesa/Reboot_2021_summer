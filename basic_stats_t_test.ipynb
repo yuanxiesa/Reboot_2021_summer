{
 "cells": [
  {
   "cell_type": "code",
   "execution_count": 1,
   "id": "d44003ce",
   "metadata": {},
   "outputs": [],
   "source": [
    "import pandas as pd\n",
    "from scipy import stats\n",
    "import matplotlib.pyplot as plt"
   ]
  },
  {
   "cell_type": "code",
   "execution_count": 2,
   "id": "b8dfa0e2",
   "metadata": {},
   "outputs": [],
   "source": [
    "soda = pd.read_csv('data_code/item.csv') # check your relative path. If you are rusty on relative and absolute path, check the Unix shell lesson: https://swcarpentry.github.io/shell-novice/02-filedir/index.html\n",
    "inv = pd.read_csv('data_code/invoice.csv')"
   ]
  },
  {
   "cell_type": "code",
   "execution_count": 3,
   "id": "798ec9df",
   "metadata": {},
   "outputs": [],
   "source": [
    "# t-test\n",
    "# tell whether two cateogries of soda (cola and energy drinks) have \"statistically significant\" difference in sales"
   ]
  },
  {
   "cell_type": "code",
   "execution_count": 4,
   "id": "6da6c624",
   "metadata": {},
   "outputs": [],
   "source": [
    "# what we need are sales data of cola and energy drinks"
   ]
  },
  {
   "cell_type": "code",
   "execution_count": 5,
   "id": "6c6357e8",
   "metadata": {},
   "outputs": [],
   "source": [
    "inv_soda = inv.merge(soda, how='outer', right_on='Item_id', left_on=\"Item_id\") # create a complete sheet using inv and soda dataframe"
   ]
  },
  {
   "cell_type": "code",
   "execution_count": 6,
   "id": "33d3aaee",
   "metadata": {},
   "outputs": [],
   "source": [
    "ct = inv_soda.groupby(['Item_Description','Category'], as_index=False).agg({'Bottles_Sold': \"sum\"}) # get total bottles solde, by both \"Item Description\" and \"Category\""
   ]
  },
  {
   "cell_type": "code",
   "execution_count": 7,
   "id": "5da7b824",
   "metadata": {},
   "outputs": [],
   "source": [
    "ct_eng = ct[ct['Category'] == 'Energy Drink'] # get sales of soft drinks in the \"energy drink\" category\n",
    "ct_cola = ct[ct['Category'] == 'Cola'] # get sales of soft drinks in the \"cola\" category"
   ]
  },
  {
   "cell_type": "code",
   "execution_count": 8,
   "id": "c7928ca8",
   "metadata": {},
   "outputs": [
    {
     "data": {
      "text/plain": [
       "Ttest_indResult(statistic=1.9035249229837687, pvalue=0.05748090367978686)"
      ]
     },
     "execution_count": 8,
     "metadata": {},
     "output_type": "execute_result"
    }
   ],
   "source": [
    "stats.ttest_ind(ct_eng['Bottles_Sold'],ct_cola['Bottles_Sold'], equal_var=False) # perform t test"
   ]
  },
  {
   "cell_type": "code",
   "execution_count": 9,
   "id": "5f0da8d7",
   "metadata": {},
   "outputs": [],
   "source": [
    "# p is slightly bigger than 0.05. We cannot reject our null hypothesis that those two categories of soft drinks have different sales"
   ]
  },
  {
   "cell_type": "code",
   "execution_count": 10,
   "id": "53c5a3d6",
   "metadata": {},
   "outputs": [],
   "source": [
    "# however, recall the video on t test\n",
    "# conditions for using t test to determine whether two groups have statistically significant difference are:\n",
    "# both groups obeys normal distribution\n",
    "# they should have similar variance (square of the standard deviation)\n",
    "# they should have about the same number of data points, in the range of 20 to 30"
   ]
  },
  {
   "cell_type": "code",
   "execution_count": 11,
   "id": "cc3205bf",
   "metadata": {},
   "outputs": [
    {
     "data": {
      "text/plain": [
       "339"
      ]
     },
     "execution_count": 11,
     "metadata": {},
     "output_type": "execute_result"
    }
   ],
   "source": [
    "len(ct_eng) # check number of data points in the energy drink category"
   ]
  },
  {
   "cell_type": "code",
   "execution_count": 12,
   "id": "0a854813",
   "metadata": {},
   "outputs": [
    {
     "data": {
      "text/plain": [
       "251"
      ]
     },
     "execution_count": 12,
     "metadata": {},
     "output_type": "execute_result"
    }
   ],
   "source": [
    "len(ct_cola) # check number of data points in the cola category"
   ]
  },
  {
   "cell_type": "code",
   "execution_count": 13,
   "id": "2a4e440e",
   "metadata": {},
   "outputs": [],
   "source": [
    "# both are beyond the 20 to 30 range"
   ]
  },
  {
   "cell_type": "code",
   "execution_count": 14,
   "id": "00305c3a",
   "metadata": {},
   "outputs": [
    {
     "data": {
      "text/plain": [
       "Text(0, 0.5, 'Count')"
      ]
     },
     "execution_count": 14,
     "metadata": {},
     "output_type": "execute_result"
    },
    {
     "data": {
      "image/png": "[encoded data removed]",
      "text/plain": [
       "<Figure size 432x288 with 1 Axes>"
      ]
     },
     "metadata": {
      "needs_background": "light"
     },
     "output_type": "display_data"
    }
   ],
   "source": [
    "plt.hist(ct_eng['Bottles_Sold']) # also check the distribution of the data by plotting a histogram\n",
    "plt.xlabel('Bottles Sold')\n",
    "plt.ylabel('Count')"
   ]
  },
  {
   "cell_type": "code",
   "execution_count": 15,
   "id": "e0053c0a",
   "metadata": {},
   "outputs": [
    {
     "data": {
      "text/plain": [
       "Text(0, 0.5, 'Count')"
      ]
     },
     "execution_count": 15,
     "metadata": {},
     "output_type": "execute_result"
    },
    {
     "data": {
      "image/png": "[encoded data removed]",
      "text/plain": [
       "<Figure size 432x288 with 1 Axes>"
      ]
     },
     "metadata": {
      "needs_background": "light"
     },
     "output_type": "display_data"
    }
   ],
   "source": [
    "plt.hist(ct_cola['Bottles_Sold'])\n",
    "plt.xlabel('Bottles Sold')\n",
    "plt.ylabel('Count')"
   ]
  },
  {
   "cell_type": "code",
   "execution_count": null,
   "id": "5ca555df",
   "metadata": {},
   "outputs": [],
   "source": [
    "# The histograms do not have the bell shape. There are a few drinks that sells large quantity, but many drinks sells only small quantities.\n",
    "# In conclusion, using t-test to tell whether two cateogries of soft drinks have the same sales is not appropriate here."
   ]
  }
 ],
 "metadata": {
  "kernelspec": {
   "display_name": "Python 3",
   "language": "python",
   "name": "python3"
  },
  "language_info": {
   "codemirror_mode": {
    "name": "ipython",
    "version": 3
   },
   "file_extension": ".py",
   "mimetype": "text/x-python",
   "name": "python",
   "nbconvert_exporter": "python",
   "pygments_lexer": "ipython3",
   "version": "3.8.10"
  }
 },
 "nbformat": 4,
 "nbformat_minor": 5
}
